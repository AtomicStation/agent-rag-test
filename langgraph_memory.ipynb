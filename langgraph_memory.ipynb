{
 "cells": [
  {
   "cell_type": "markdown",
   "id": "9b827943",
   "metadata": {},
   "source": [
    "# Adding and Managing Memory in LangGraph\n",
    "\n",
    "Don't have a specific tutorial to go through on this one, so I will just grab information from multiple articles and documents in langchain-ai github."
   ]
  },
  {
   "cell_type": "markdown",
   "id": "ae49c151",
   "metadata": {},
   "source": [
    "## Basic Chatbot\n",
    "Need something basic in order to add memory to track.\n",
    "\n",
    "Using Harish Neel's video series to walk through this for the first time.\n",
    "YouTube video #25 of the series [here](https://www.youtube.com/watch?v=KU_FDwwL5_s)"
   ]
  },
  {
   "cell_type": "code",
   "execution_count": 3,
   "id": "a2e05d4f",
   "metadata": {},
   "outputs": [],
   "source": [
    "from typing import TypedDict, Annotated\n",
    "from langgraph.graph import StateGraph, add_messages, END\n",
    "from langchain_core.messages import AIMessage, HumanMessage\n",
    "from langgraph.graph import MessagesState\n",
    "from langchain.chat_models import init_chat_model\n",
    "\n",
    "llm = init_chat_model(\"ollama:qwen2.5:32b\", temperature=0)"
   ]
  },
  {
   "cell_type": "code",
   "execution_count": null,
   "id": "765685b3",
   "metadata": {},
   "outputs": [],
   "source": [
    "class BasicChatState(TypedDict):\n",
    "    messages: Annotated[list, add_messages]"
   ]
  },
  {
   "cell_type": "code",
   "execution_count": null,
   "id": "d531441a",
   "metadata": {},
   "outputs": [],
   "source": [
    "def chatbot(state:BasicChatState):\n",
    "    return {\n",
    "        \"messages\": [llm.invoke(state[\"messages\"])]\n",
    "    }"
   ]
  },
  {
   "cell_type": "code",
   "execution_count": null,
   "id": "6a0bf491",
   "metadata": {},
   "outputs": [
    {
     "data": {
      "text/plain": [
       "<langgraph.graph.state.StateGraph at 0x239a38e30b0>"
      ]
     },
     "execution_count": 6,
     "metadata": {},
     "output_type": "execute_result"
    }
   ],
   "source": [
    "graph = StateGraph(BasicChatState)\n",
    "\n",
    "graph.add_node(\"chatbot\", chatbot)\n",
    "graph.set_entry_point(\"chatbot\")\n",
    "graph.add_edge(\"chatbot\", END)"
   ]
  },
  {
   "cell_type": "code",
   "execution_count": 7,
   "id": "44931ac2",
   "metadata": {},
   "outputs": [],
   "source": [
    "app = graph.compile()"
   ]
  },
  {
   "cell_type": "code",
   "execution_count": 8,
   "id": "5b7a46f1",
   "metadata": {},
   "outputs": [
    {
     "data": {
      "image/png": "[encoded data removed]",
      "text/plain": [
       "<IPython.core.display.Image object>"
      ]
     },
     "metadata": {},
     "output_type": "display_data"
    }
   ],
   "source": [
    "from IPython.display import Image, display\n",
    "\n",
    "display(Image(app.get_graph().draw_mermaid_png()))"
   ]
  },
  {
   "cell_type": "code",
   "execution_count": null,
   "id": "3370fc47",
   "metadata": {},
   "outputs": [
    {
     "name": "stdout",
     "output_type": "stream",
     "text": [
      "Bot: Hello Bob! It's nice to meet you. How can I assist you today? Is there anything specific you'd like to know or discuss?\n"
     ]
    }
   ],
   "source": [
    "input_greeting = {\n",
    "    \"messages\": [\n",
    "        {\"role\": \"user\", \"content\": \"Hi! i am Tom\"}\n",
    "    ]\n",
    "}\n",
    "\n",
    "response = app.invoke(input_greeting)\n",
    "print(\"Bot:\", response[\"messages\"][-1].content)"
   ]
  },
  {
   "cell_type": "code",
   "execution_count": null,
   "id": "85f332d9",
   "metadata": {},
   "outputs": [
    {
     "name": "stdout",
     "output_type": "stream",
     "text": [
      "Bot: I don't have access to information about specific users unless you provide it to me during our conversation. Could you tell me your name if you're comfortable sharing it?\n"
     ]
    }
   ],
   "source": [
    "input_question = {\n",
    "    \"messages\": [\n",
    "        {\"role\": \"user\", \"content\": \"what's my name?\"}\n",
    "    ]\n",
    "}\n",
    "\n",
    "response = app.invoke(input)\n",
    "print(\"Bot:\", response[\"messages\"][-1].content)"
   ]
  },
  {
   "cell_type": "markdown",
   "id": "f37a08ce",
   "metadata": {},
   "source": [
    "## Add tools\n",
    "\n",
    "Video #26 found [here](https://www.youtube.com/watch?v=FYxvh5YQniQ)"
   ]
  },
  {
   "cell_type": "code",
   "execution_count": 12,
   "id": "c05a6d42",
   "metadata": {},
   "outputs": [],
   "source": [
    "from langchain_tavily import TavilySearch\n",
    "\n",
    "search_tool = TavilySearch(max_results=2)\n",
    "tools = [search_tool]"
   ]
  },
  {
   "cell_type": "code",
   "execution_count": 14,
   "id": "74c06699",
   "metadata": {},
   "outputs": [
    {
     "data": {
      "text/plain": [
       "{'query': \"What's a node in LangGraph?\",\n",
       " 'follow_up_questions': None,\n",
       " 'answer': None,\n",
       " 'images': [],\n",
       " 'results': [{'url': 'https://blog.langchain.dev/langgraph/',\n",
       "   'title': 'LangGraph - LangChain Blog',\n",
       "   'content': \"TL;DR: LangGraph is module built on top of LangChain to better enable creation of cyclical graphs, often needed for agent runtimes. This state is updated by nodes in the graph, which return operations to attributes of this state (in the form of a key-value store). After adding nodes, you can then add edges to create the graph. An example of this may be in the basic agent runtime, where we always want the model to be called after we call a tool. The state of this graph by default contains concepts that should be familiar to you if you've used LangChain agents: `input`, `chat_history`, `intermediate_steps` (and `agent_outcome` to represent the most recent agent outcome)\",\n",
       "   'score': 0.7634314,\n",
       "   'raw_content': None},\n",
       "  {'url': 'https://medium.com/@cplog/introduction-to-langgraph-a-beginners-guide-14f9be027141',\n",
       "   'title': \"Introduction to LangGraph: A Beginner's Guide - Medium\",\n",
       "   'content': '*   **Stateful Graph:** LangGraph revolves around the concept of a stateful graph, where each node in the graph represents a step in your computation, and the graph maintains a state that is passed around and updated as the computation progresses. LangGraph supports conditional edges, allowing you to dynamically determine the next node to execute based on the current state of the graph. Image 10: Introduction to AI Agent with LangChain and LangGraph: A Beginner’s Guide Image 18: How to build LLM Agent with LangGraph\\u200a—\\u200aStateGraph and Reducer Image 20: Simplest Graphs using LangGraph Framework Image 24: Building a ReAct Agent with Langgraph: A Step-by-Step Guide Image 28: Building an Agentic RAG with LangGraph: A Step-by-Step Guide',\n",
       "   'score': 0.6780931,\n",
       "   'raw_content': None}],\n",
       " 'response_time': 1.78}"
      ]
     },
     "execution_count": 14,
     "metadata": {},
     "output_type": "execute_result"
    }
   ],
   "source": [
    "search_tool.invoke(\"What's a node in LangGraph?\")"
   ]
  },
  {
   "cell_type": "code",
   "execution_count": 13,
   "id": "e5ae57d0",
   "metadata": {},
   "outputs": [],
   "source": [
    "llm_with_tools = llm.bind_tools(tools=tools)"
   ]
  },
  {
   "cell_type": "code",
   "execution_count": 15,
   "id": "521d3194",
   "metadata": {},
   "outputs": [],
   "source": [
    "def chatbot_with_tools(state:BasicChatState):\n",
    "    return {\n",
    "        \"messages\": [llm_with_tools.invoke(state[\"messages\"])]\n",
    "}"
   ]
  },
  {
   "cell_type": "code",
   "execution_count": null,
   "id": "96011b91",
   "metadata": {},
   "outputs": [],
   "source": [
    "def tools_router(state:BasicChatState):\n",
    "    last_message = state[\"messages\"][-1]\n",
    "\n",
    "    # Check if last message is a tool call attribute\n",
    "    if (hasattr(last_message, \"tool_calls\") and len(last_message.tool_calls) > 0):\n",
    "        return \"tool_node\"\n",
    "    else:\n",
    "        return END"
   ]
  },
  {
   "cell_type": "code",
   "execution_count": 19,
   "id": "b48663b6",
   "metadata": {},
   "outputs": [],
   "source": [
    "from langgraph.prebuilt import ToolNode\n",
    "\n",
    "tools_node = ToolNode(tools=tools)"
   ]
  },
  {
   "cell_type": "code",
   "execution_count": 22,
   "id": "3ed33f70",
   "metadata": {},
   "outputs": [
    {
     "data": {
      "text/plain": [
       "<langgraph.graph.state.StateGraph at 0x239cd80fec0>"
      ]
     },
     "execution_count": 22,
     "metadata": {},
     "output_type": "execute_result"
    }
   ],
   "source": [
    "from langgraph.prebuilt import tools_condition\n",
    "\n",
    "graph_with_tools = StateGraph(BasicChatState)\n",
    "\n",
    "graph_with_tools.add_node(\"chatbot\", chatbot_with_tools)\n",
    "graph_with_tools.add_node(\"tools_node\", tools_node)\n",
    "graph_with_tools.set_entry_point(\"chatbot\")\n",
    "\n",
    "graph_with_tools.add_conditional_edges(\"chatbot\", tools_condition, {\"tools\": \"tools_node\", END: END})\n",
    "graph_with_tools.add_edge(\"tools_node\", \"chatbot\")"
   ]
  },
  {
   "cell_type": "code",
   "execution_count": 24,
   "id": "523c883d",
   "metadata": {},
   "outputs": [],
   "source": [
    "app_with_tools = graph_with_tools.compile()"
   ]
  },
  {
   "cell_type": "code",
   "execution_count": 25,
   "id": "5b699f00",
   "metadata": {},
   "outputs": [
    {
     "data": {
      "image/png": "[encoded data removed]",
      "text/plain": [
       "<IPython.core.display.Image object>"
      ]
     },
     "metadata": {},
     "output_type": "display_data"
    }
   ],
   "source": [
    "display(Image(app_with_tools.get_graph().draw_mermaid_png()))"
   ]
  },
  {
   "cell_type": "code",
   "execution_count": 26,
   "id": "e9545ed6",
   "metadata": {},
   "outputs": [
    {
     "name": "stdout",
     "output_type": "stream",
     "text": [
      "Bot: Hello Tom! How can I assist you today?\n"
     ]
    }
   ],
   "source": [
    "input_greeting = {\n",
    "    \"messages\": [\n",
    "        {\"role\": \"user\", \"content\": \"Hi! i am Tom\"}\n",
    "    ]\n",
    "}\n",
    "\n",
    "response = app_with_tools.invoke(input_greeting)\n",
    "print(\"Bot:\", response[\"messages\"][-1].content)"
   ]
  },
  {
   "cell_type": "code",
   "execution_count": 27,
   "id": "ae4e8eea",
   "metadata": {},
   "outputs": [
    {
     "name": "stdout",
     "output_type": "stream",
     "text": [
      "Bot: A node in LangGraph represents a step in your computation within a stateful graph. Each node updates the state of the graph, which is maintained as key-value pairs and includes concepts like `input`, `chat_history`, `intermediate_steps`, and `agent_outcome`. After adding nodes, you can connect them with edges to create the desired computational flow. For example, in an agent runtime setup, a model node might be configured to run after a tool node has been executed. This structure allows for dynamic and conditional execution paths based on the current state of the graph.\n"
     ]
    }
   ],
   "source": [
    "input_tool_question = {\n",
    "    \"messages\": [\n",
    "        {\"role\": \"user\", \"content\": \"What's a node in LangGraph?\"}\n",
    "    ]\n",
    "}\n",
    "\n",
    "response = app_with_tools.invoke(input_tool_question)\n",
    "print(\"Bot:\", response[\"messages\"][-1].content)"
   ]
  },
  {
   "cell_type": "code",
   "execution_count": 28,
   "id": "fd35cc2d",
   "metadata": {},
   "outputs": [
    {
     "data": {
      "text/plain": [
       "{'messages': [HumanMessage(content=\"What's a node in LangGraph?\", additional_kwargs={}, response_metadata={}, id='06aa9fca-5f61-4294-8978-007defebe138'),\n",
       "  AIMessage(content='', additional_kwargs={}, response_metadata={'model': 'qwen2.5:32b', 'created_at': '2025-07-09T21:37:57.2534145Z', 'done': True, 'done_reason': 'stop', 'total_duration': 11675091400, 'load_duration': 28332800, 'prompt_eval_count': 980, 'prompt_eval_duration': 1588828400, 'eval_count': 25, 'eval_duration': 10053837200, 'model_name': 'qwen2.5:32b'}, id='run--f2730e11-2766-4355-93d7-b92a986c0f7b-0', tool_calls=[{'name': 'tavily_search', 'args': {'query': 'node in LangGraph'}, 'id': 'ae32f5e6-79ef-4920-94e9-3b00163137d4', 'type': 'tool_call'}], usage_metadata={'input_tokens': 980, 'output_tokens': 25, 'total_tokens': 1005}),\n",
       "  ToolMessage(content='{\"query\": \"node in LangGraph\", \"follow_up_questions\": null, \"answer\": null, \"images\": [], \"results\": [{\"url\": \"https://blog.langchain.dev/langgraph/\", \"title\": \"LangGraph - LangChain Blog\", \"content\": \"TL;DR: LangGraph is module built on top of LangChain to better enable creation of cyclical graphs, often needed for agent runtimes. This state is updated by nodes in the graph, which return operations to attributes of this state (in the form of a key-value store). After adding nodes, you can then add edges to create the graph. An example of this may be in the basic agent runtime, where we always want the model to be called after we call a tool. The state of this graph by default contains concepts that should be familiar to you if you\\'ve used LangChain agents: `input`, `chat_history`, `intermediate_steps` (and `agent_outcome` to represent the most recent agent outcome)\", \"score\": 0.7055624, \"raw_content\": null}, {\"url\": \"https://medium.com/@cplog/introduction-to-langgraph-a-beginners-guide-14f9be027141\", \"title\": \"Introduction to LangGraph: A Beginner\\'s Guide - Medium\", \"content\": \"*   **Stateful Graph:** LangGraph revolves around the concept of a stateful graph, where each node in the graph represents a step in your computation, and the graph maintains a state that is passed around and updated as the computation progresses. LangGraph supports conditional edges, allowing you to dynamically determine the next node to execute based on the current state of the graph. Image 10: Introduction to AI Agent with LangChain and LangGraph: A Beginner’s Guide Image 18: How to build LLM Agent with LangGraph\\u200a—\\u200aStateGraph and Reducer Image 20: Simplest Graphs using LangGraph Framework Image 24: Building a ReAct Agent with Langgraph: A Step-by-Step Guide Image 28: Building an Agentic RAG with LangGraph: A Step-by-Step Guide\", \"score\": 0.63179934, \"raw_content\": null}], \"response_time\": 1.26}', name='tavily_search', id='66152ddf-a4b3-4021-b74c-993453175fb3', tool_call_id='ae32f5e6-79ef-4920-94e9-3b00163137d4'),\n",
       "  AIMessage(content='A node in LangGraph represents a step in your computation within a stateful graph. Each node updates the state of the graph, which is maintained as key-value pairs and includes concepts like `input`, `chat_history`, `intermediate_steps`, and `agent_outcome`. After adding nodes, you can connect them with edges to create the desired computational flow. For example, in an agent runtime setup, a model node might be configured to run after a tool node has been executed. This structure allows for dynamic and conditional execution paths based on the current state of the graph.', additional_kwargs={}, response_metadata={'model': 'qwen2.5:32b', 'created_at': '2025-07-09T21:38:49.3492925Z', 'done': True, 'done_reason': 'stop', 'total_duration': 50445238500, 'load_duration': 29038500, 'prompt_eval_count': 1502, 'prompt_eval_duration': 1466792700, 'eval_count': 116, 'eval_duration': 48929350700, 'model_name': 'qwen2.5:32b'}, id='run--38692eab-f047-43ce-a835-dc15897c6cff-0', usage_metadata={'input_tokens': 1502, 'output_tokens': 116, 'total_tokens': 1618})]}"
      ]
     },
     "execution_count": 28,
     "metadata": {},
     "output_type": "execute_result"
    }
   ],
   "source": [
    "response"
   ]
  },
  {
   "cell_type": "markdown",
   "id": "17acd549",
   "metadata": {},
   "source": [
    "## With Memory\n",
    "- Harish Video #27 found [here](https://www.youtube.com/watch?v=QTaou6alCL0)\n",
    "- Official documentation from LangChain-ai [here](https://langchain-ai.github.io/langgraph/tutorials/get-started/3-add-memory/)"
   ]
  },
  {
   "cell_type": "code",
   "execution_count": 29,
   "id": "4946bc99",
   "metadata": {},
   "outputs": [],
   "source": [
    "from langgraph.checkpoint.memory import InMemorySaver\n",
    "\n",
    "checkpointer = InMemorySaver()\n",
    "\n",
    "app_with_memory = graph_with_tools.compile(checkpointer=checkpointer)"
   ]
  },
  {
   "cell_type": "code",
   "execution_count": 30,
   "id": "e0835c16",
   "metadata": {},
   "outputs": [
    {
     "data": {
      "image/png": "[encoded data removed]",
      "text/plain": [
       "<IPython.core.display.Image object>"
      ]
     },
     "metadata": {},
     "output_type": "display_data"
    }
   ],
   "source": [
    "display(Image(app_with_memory.get_graph().draw_mermaid_png()))"
   ]
  },
  {
   "cell_type": "code",
   "execution_count": 31,
   "id": "4a642e2a",
   "metadata": {},
   "outputs": [],
   "source": [
    "config = {\"configurable\": {\"thread_id\": \"1\"}}"
   ]
  },
  {
   "cell_type": "code",
   "execution_count": 32,
   "id": "d663ddd8",
   "metadata": {},
   "outputs": [
    {
     "name": "stdout",
     "output_type": "stream",
     "text": [
      "================================\u001b[1m Human Message \u001b[0m=================================\n",
      "\n",
      "Hello! I'm Tom\n",
      "==================================\u001b[1m Ai Message \u001b[0m==================================\n",
      "\n",
      "Hello Tom! How can I assist you today?\n"
     ]
    }
   ],
   "source": [
    "user_input = \"Hello! I'm Tom\"\n",
    "\n",
    "events = app_with_memory.stream(\n",
    "    {\"messages\": [{\"role\": \"user\", \"content\": user_input}]},\n",
    "    config,\n",
    "    stream_mode=\"values\",\n",
    ")\n",
    "\n",
    "for event in events:\n",
    "    event[\"messages\"][-1].pretty_print()"
   ]
  },
  {
   "cell_type": "code",
   "execution_count": 33,
   "id": "d126a107",
   "metadata": {},
   "outputs": [
    {
     "name": "stdout",
     "output_type": "stream",
     "text": [
      "================================\u001b[1m Human Message \u001b[0m=================================\n",
      "\n",
      "Do you remember my name?\n",
      "==================================\u001b[1m Ai Message \u001b[0m==================================\n",
      "\n",
      "Yes, I remember your name is Tom. How can I help you today, Tom?\n"
     ]
    }
   ],
   "source": [
    "user_input = \"Do you remember my name?\"\n",
    "\n",
    "events = app_with_memory.stream(\n",
    "    {\"messages\": [{\"role\": \"user\", \"content\": user_input}]},\n",
    "    config,\n",
    "    stream_mode=\"values\",\n",
    ")\n",
    "\n",
    "for event in events:\n",
    "    event[\"messages\"][-1].pretty_print()"
   ]
  },
  {
   "cell_type": "code",
   "execution_count": 49,
   "id": "ad0a8e56",
   "metadata": {},
   "outputs": [
    {
     "name": "stdout",
     "output_type": "stream",
     "text": [
      "================================\u001b[1m Human Message \u001b[0m=================================\n",
      "\n",
      "Hello! I'm Tom\n",
      "==================================\u001b[1m Ai Message \u001b[0m==================================\n",
      "\n",
      "Hello Tom! How can I assist you today?\n",
      "================================\u001b[1m Human Message \u001b[0m=================================\n",
      "\n",
      "Do you remember my name?\n",
      "==================================\u001b[1m Ai Message \u001b[0m==================================\n",
      "\n",
      "Yes, I remember your name is Tom. How can I help you today, Tom?\n"
     ]
    }
   ],
   "source": [
    "messages = app_with_memory.get_state(config=config)\n",
    "\n",
    "for message in messages.values[\"messages\"]:\n",
    "    message.pretty_print()"
   ]
  },
  {
   "cell_type": "markdown",
   "id": "d4235e72",
   "metadata": {},
   "source": [
    "## With SqliteSaver Checkpointer\n",
    "Video #28 found [here](https://www.youtube.com/watch?v=xK8g1A5Plvk)"
   ]
  },
  {
   "cell_type": "code",
   "execution_count": 50,
   "id": "b9db5b3c",
   "metadata": {},
   "outputs": [],
   "source": [
    "from langgraph.checkpoint.sqlite import SqliteSaver\n",
    "import sqlite3\n",
    "\n",
    "conn = sqlite3.connect(\"checkpoints.sqlite\", check_same_thread=False)\n",
    "memory = SqliteSaver(conn)\n",
    "\n"
   ]
  },
  {
   "cell_type": "code",
   "execution_count": 51,
   "id": "c098a9d0",
   "metadata": {},
   "outputs": [],
   "source": [
    "app_with_sqlite = graph_with_tools.compile(checkpointer=memory)"
   ]
  },
  {
   "cell_type": "code",
   "execution_count": null,
   "id": "2cdb8513",
   "metadata": {},
   "outputs": [],
   "source": [
    "config_sqlite = {\"configurable\": {\"thread_id\": \"2\"}}"
   ]
  },
  {
   "cell_type": "code",
   "execution_count": null,
   "id": "d2286664",
   "metadata": {},
   "outputs": [],
   "source": [
    "user_input = \"Hello! I'm Tom\"\n",
    "\n",
    "events = app_with_sqlite.stream(\n",
    "    {\"messages\": [{\"role\": \"user\", \"content\": user_input}]},\n",
    "    config_sqlite,\n",
    "    stream_mode=\"values\",\n",
    ")\n",
    "\n",
    "for event in events:\n",
    "    event[\"messages\"][-1].pretty_print()"
   ]
  }
 ],
 "metadata": {
  "kernelspec": {
   "display_name": ".venv",
   "language": "python",
   "name": "python3"
  },
  "language_info": {
   "codemirror_mode": {
    "name": "ipython",
    "version": 3
   },
   "file_extension": ".py",
   "mimetype": "text/x-python",
   "name": "python",
   "nbconvert_exporter": "python",
   "pygments_lexer": "ipython3",
   "version": "3.12.0"
  }
 },
 "nbformat": 4,
 "nbformat_minor": 5
}
