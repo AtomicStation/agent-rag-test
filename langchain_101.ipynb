{
 "cells": [
  {
   "cell_type": "markdown",
   "id": "e497f9bd",
   "metadata": {},
   "source": [
    "# LangChain 101\n",
    "I'm going to slowly build up my runnables to be a chain, to perform basic RAG functionality.\n",
    "\n",
    "Stack:\n",
    "- LLM: Ollama (llama3.1)\n",
    "- Vector Store: Chroma\n",
    "- UI: Streamlit\n",
    "- Memory: SQLite\n",
    "- Embeddings: BGE or all-MiniLM-L6-v2"
   ]
  },
  {
   "cell_type": "markdown",
   "id": "4eed3331",
   "metadata": {},
   "source": [
    "## LLM response"
   ]
  },
  {
   "cell_type": "markdown",
   "id": "ebd16a0f",
   "metadata": {},
   "source": [
    "## SQLite"
   ]
  },
  {
   "cell_type": "markdown",
   "id": "340679f1",
   "metadata": {},
   "source": [
    "## Chroma"
   ]
  }
 ],
 "metadata": {
  "language_info": {
   "name": "python"
  }
 },
 "nbformat": 4,
 "nbformat_minor": 5
}
